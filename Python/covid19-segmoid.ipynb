{
 "cells": [
  {
   "cell_type": "code",
   "execution_count": 1,
   "id": "6dbb1b04",
   "metadata": {
    "execution": {
     "iopub.execute_input": "2024-08-09T09:27:56.640452Z",
     "iopub.status.busy": "2024-08-09T09:27:56.639686Z",
     "iopub.status.idle": "2024-08-09T09:28:15.749212Z",
     "shell.execute_reply": "2024-08-09T09:28:15.747980Z"
    },
    "papermill": {
     "duration": 19.129041,
     "end_time": "2024-08-09T09:28:15.752830",
     "exception": false,
     "start_time": "2024-08-09T09:27:56.623789",
     "status": "completed"
    },
    "tags": []
   },
   "outputs": [
    {
     "name": "stderr",
     "output_type": "stream",
     "text": [
      "2024-08-09 09:27:59.444644: E external/local_xla/xla/stream_executor/cuda/cuda_dnn.cc:9261] Unable to register cuDNN factory: Attempting to register factory for plugin cuDNN when one has already been registered\n",
      "2024-08-09 09:27:59.444778: E external/local_xla/xla/stream_executor/cuda/cuda_fft.cc:607] Unable to register cuFFT factory: Attempting to register factory for plugin cuFFT when one has already been registered\n",
      "2024-08-09 09:27:59.671974: E external/local_xla/xla/stream_executor/cuda/cuda_blas.cc:1515] Unable to register cuBLAS factory: Attempting to register factory for plugin cuBLAS when one has already been registered\n"
     ]
    }
   ],
   "source": [
    "import tensorflow as tf\n",
    "import keras \n",
    "import numpy as np\n",
    "import pandas as pd\n",
    "import matplotlib.pyplot as plt\n",
    "import seaborn as sns\n",
    "from sklearn.preprocessing import StandardScaler\n",
    "from sklearn.preprocessing import LabelEncoder\n",
    "from sklearn.compose import ColumnTransformer\n",
    "from sklearn.model_selection import train_test_split\n",
    "from sklearn.pipeline import Pipeline\n",
    "from sklearn.feature_selection import SelectPercentile\n",
    "from sklearn.feature_selection import chi2 , f_classif ,SelectKBest\n",
    "from imblearn.over_sampling import SMOTE\n",
    "import missingno as msno\n",
    "import warnings\n",
    "warnings.filterwarnings('ignore')\n",
    "from keras.metrics import MeanSquaredError\n",
    "from datetime import datetime\n",
    "from sklearn.metrics import mean_squared_error , mean_absolute_error\n",
    "from sklearn import preprocessing "
   ]
  },
  {
   "cell_type": "code",
   "execution_count": 2,
   "id": "e467d420",
   "metadata": {
    "execution": {
     "iopub.execute_input": "2024-08-09T09:28:15.784503Z",
     "iopub.status.busy": "2024-08-09T09:28:15.783803Z",
     "iopub.status.idle": "2024-08-09T09:28:16.554907Z",
     "shell.execute_reply": "2024-08-09T09:28:16.553779Z"
    },
    "papermill": {
     "duration": 0.790996,
     "end_time": "2024-08-09T09:28:16.558348",
     "exception": false,
     "start_time": "2024-08-09T09:28:15.767352",
     "status": "completed"
    },
    "tags": []
   },
   "outputs": [
    {
     "data": {
      "text/html": [
       "<div>\n",
       "<style scoped>\n",
       "    .dataframe tbody tr th:only-of-type {\n",
       "        vertical-align: middle;\n",
       "    }\n",
       "\n",
       "    .dataframe tbody tr th {\n",
       "        vertical-align: top;\n",
       "    }\n",
       "\n",
       "    .dataframe thead th {\n",
       "        text-align: right;\n",
       "    }\n",
       "</style>\n",
       "<table border=\"1\" class=\"dataframe\">\n",
       "  <thead>\n",
       "    <tr style=\"text-align: right;\">\n",
       "      <th></th>\n",
       "      <th>Ind_ID</th>\n",
       "      <th>Test_date</th>\n",
       "      <th>Cough_symptoms</th>\n",
       "      <th>Fever</th>\n",
       "      <th>Sore_throat</th>\n",
       "      <th>Shortness_of_breath</th>\n",
       "      <th>Headache</th>\n",
       "      <th>Corona</th>\n",
       "      <th>Age_60_above</th>\n",
       "      <th>Sex</th>\n",
       "      <th>Known_contact</th>\n",
       "    </tr>\n",
       "  </thead>\n",
       "  <tbody>\n",
       "    <tr>\n",
       "      <th>0</th>\n",
       "      <td>1</td>\n",
       "      <td>11-03-2020</td>\n",
       "      <td>True</td>\n",
       "      <td>False</td>\n",
       "      <td>True</td>\n",
       "      <td>False</td>\n",
       "      <td>False</td>\n",
       "      <td>negative</td>\n",
       "      <td>NaN</td>\n",
       "      <td>NaN</td>\n",
       "      <td>Abroad</td>\n",
       "    </tr>\n",
       "    <tr>\n",
       "      <th>1</th>\n",
       "      <td>2</td>\n",
       "      <td>11-03-2020</td>\n",
       "      <td>False</td>\n",
       "      <td>True</td>\n",
       "      <td>False</td>\n",
       "      <td>False</td>\n",
       "      <td>False</td>\n",
       "      <td>positive</td>\n",
       "      <td>NaN</td>\n",
       "      <td>NaN</td>\n",
       "      <td>Abroad</td>\n",
       "    </tr>\n",
       "    <tr>\n",
       "      <th>2</th>\n",
       "      <td>3</td>\n",
       "      <td>11-03-2020</td>\n",
       "      <td>False</td>\n",
       "      <td>True</td>\n",
       "      <td>False</td>\n",
       "      <td>False</td>\n",
       "      <td>False</td>\n",
       "      <td>positive</td>\n",
       "      <td>NaN</td>\n",
       "      <td>NaN</td>\n",
       "      <td>Abroad</td>\n",
       "    </tr>\n",
       "    <tr>\n",
       "      <th>3</th>\n",
       "      <td>4</td>\n",
       "      <td>11-03-2020</td>\n",
       "      <td>True</td>\n",
       "      <td>False</td>\n",
       "      <td>False</td>\n",
       "      <td>False</td>\n",
       "      <td>False</td>\n",
       "      <td>negative</td>\n",
       "      <td>NaN</td>\n",
       "      <td>NaN</td>\n",
       "      <td>Abroad</td>\n",
       "    </tr>\n",
       "    <tr>\n",
       "      <th>4</th>\n",
       "      <td>5</td>\n",
       "      <td>11-03-2020</td>\n",
       "      <td>True</td>\n",
       "      <td>False</td>\n",
       "      <td>False</td>\n",
       "      <td>False</td>\n",
       "      <td>False</td>\n",
       "      <td>negative</td>\n",
       "      <td>NaN</td>\n",
       "      <td>NaN</td>\n",
       "      <td>Contact with confirmed</td>\n",
       "    </tr>\n",
       "    <tr>\n",
       "      <th>...</th>\n",
       "      <td>...</td>\n",
       "      <td>...</td>\n",
       "      <td>...</td>\n",
       "      <td>...</td>\n",
       "      <td>...</td>\n",
       "      <td>...</td>\n",
       "      <td>...</td>\n",
       "      <td>...</td>\n",
       "      <td>...</td>\n",
       "      <td>...</td>\n",
       "      <td>...</td>\n",
       "    </tr>\n",
       "    <tr>\n",
       "      <th>278843</th>\n",
       "      <td>278844</td>\n",
       "      <td>30-04-2020</td>\n",
       "      <td>False</td>\n",
       "      <td>False</td>\n",
       "      <td>False</td>\n",
       "      <td>False</td>\n",
       "      <td>False</td>\n",
       "      <td>positive</td>\n",
       "      <td>NaN</td>\n",
       "      <td>male</td>\n",
       "      <td>Other</td>\n",
       "    </tr>\n",
       "    <tr>\n",
       "      <th>278844</th>\n",
       "      <td>278845</td>\n",
       "      <td>30-04-2020</td>\n",
       "      <td>False</td>\n",
       "      <td>False</td>\n",
       "      <td>False</td>\n",
       "      <td>False</td>\n",
       "      <td>False</td>\n",
       "      <td>negative</td>\n",
       "      <td>NaN</td>\n",
       "      <td>female</td>\n",
       "      <td>Other</td>\n",
       "    </tr>\n",
       "    <tr>\n",
       "      <th>278845</th>\n",
       "      <td>278846</td>\n",
       "      <td>30-04-2020</td>\n",
       "      <td>False</td>\n",
       "      <td>False</td>\n",
       "      <td>False</td>\n",
       "      <td>False</td>\n",
       "      <td>False</td>\n",
       "      <td>negative</td>\n",
       "      <td>NaN</td>\n",
       "      <td>male</td>\n",
       "      <td>Other</td>\n",
       "    </tr>\n",
       "    <tr>\n",
       "      <th>278846</th>\n",
       "      <td>278847</td>\n",
       "      <td>30-04-2020</td>\n",
       "      <td>False</td>\n",
       "      <td>False</td>\n",
       "      <td>False</td>\n",
       "      <td>False</td>\n",
       "      <td>False</td>\n",
       "      <td>negative</td>\n",
       "      <td>NaN</td>\n",
       "      <td>male</td>\n",
       "      <td>Other</td>\n",
       "    </tr>\n",
       "    <tr>\n",
       "      <th>278847</th>\n",
       "      <td>278848</td>\n",
       "      <td>30-04-2020</td>\n",
       "      <td>False</td>\n",
       "      <td>False</td>\n",
       "      <td>False</td>\n",
       "      <td>False</td>\n",
       "      <td>False</td>\n",
       "      <td>negative</td>\n",
       "      <td>NaN</td>\n",
       "      <td>female</td>\n",
       "      <td>Other</td>\n",
       "    </tr>\n",
       "  </tbody>\n",
       "</table>\n",
       "<p>278848 rows × 11 columns</p>\n",
       "</div>"
      ],
      "text/plain": [
       "        Ind_ID   Test_date Cough_symptoms  Fever Sore_throat  \\\n",
       "0            1  11-03-2020           True  False        True   \n",
       "1            2  11-03-2020          False   True       False   \n",
       "2            3  11-03-2020          False   True       False   \n",
       "3            4  11-03-2020           True  False       False   \n",
       "4            5  11-03-2020           True  False       False   \n",
       "...        ...         ...            ...    ...         ...   \n",
       "278843  278844  30-04-2020          False  False       False   \n",
       "278844  278845  30-04-2020          False  False       False   \n",
       "278845  278846  30-04-2020          False  False       False   \n",
       "278846  278847  30-04-2020          False  False       False   \n",
       "278847  278848  30-04-2020          False  False       False   \n",
       "\n",
       "       Shortness_of_breath Headache    Corona Age_60_above     Sex  \\\n",
       "0                    False    False  negative          NaN     NaN   \n",
       "1                    False    False  positive          NaN     NaN   \n",
       "2                    False    False  positive          NaN     NaN   \n",
       "3                    False    False  negative          NaN     NaN   \n",
       "4                    False    False  negative          NaN     NaN   \n",
       "...                    ...      ...       ...          ...     ...   \n",
       "278843               False    False  positive          NaN    male   \n",
       "278844               False    False  negative          NaN  female   \n",
       "278845               False    False  negative          NaN    male   \n",
       "278846               False    False  negative          NaN    male   \n",
       "278847               False    False  negative          NaN  female   \n",
       "\n",
       "                 Known_contact  \n",
       "0                       Abroad  \n",
       "1                       Abroad  \n",
       "2                       Abroad  \n",
       "3                       Abroad  \n",
       "4       Contact with confirmed  \n",
       "...                        ...  \n",
       "278843                   Other  \n",
       "278844                   Other  \n",
       "278845                   Other  \n",
       "278846                   Other  \n",
       "278847                   Other  \n",
       "\n",
       "[278848 rows x 11 columns]"
      ]
     },
     "execution_count": 2,
     "metadata": {},
     "output_type": "execute_result"
    }
   ],
   "source": [
    "df=pd.read_csv(R'/kaggle/input/covid-19-prediction-binary-classification/corona.csv')\n",
    "df"
   ]
  },
  {
   "cell_type": "code",
   "execution_count": 3,
   "id": "2a8fe66e",
   "metadata": {
    "execution": {
     "iopub.execute_input": "2024-08-09T09:28:16.598484Z",
     "iopub.status.busy": "2024-08-09T09:28:16.598029Z",
     "iopub.status.idle": "2024-08-09T09:28:16.672570Z",
     "shell.execute_reply": "2024-08-09T09:28:16.671329Z"
    },
    "papermill": {
     "duration": 0.09286,
     "end_time": "2024-08-09T09:28:16.675187",
     "exception": false,
     "start_time": "2024-08-09T09:28:16.582327",
     "status": "completed"
    },
    "tags": []
   },
   "outputs": [
    {
     "data": {
      "text/html": [
       "<div>\n",
       "<style scoped>\n",
       "    .dataframe tbody tr th:only-of-type {\n",
       "        vertical-align: middle;\n",
       "    }\n",
       "\n",
       "    .dataframe tbody tr th {\n",
       "        vertical-align: top;\n",
       "    }\n",
       "\n",
       "    .dataframe thead th {\n",
       "        text-align: right;\n",
       "    }\n",
       "</style>\n",
       "<table border=\"1\" class=\"dataframe\">\n",
       "  <thead>\n",
       "    <tr style=\"text-align: right;\">\n",
       "      <th></th>\n",
       "      <th>Test_date</th>\n",
       "      <th>Cough_symptoms</th>\n",
       "      <th>Fever</th>\n",
       "      <th>Sore_throat</th>\n",
       "      <th>Shortness_of_breath</th>\n",
       "      <th>Headache</th>\n",
       "      <th>Corona</th>\n",
       "      <th>Age_60_above</th>\n",
       "      <th>Sex</th>\n",
       "      <th>Known_contact</th>\n",
       "    </tr>\n",
       "  </thead>\n",
       "  <tbody>\n",
       "    <tr>\n",
       "      <th>0</th>\n",
       "      <td>11-03-2020</td>\n",
       "      <td>True</td>\n",
       "      <td>False</td>\n",
       "      <td>True</td>\n",
       "      <td>False</td>\n",
       "      <td>False</td>\n",
       "      <td>negative</td>\n",
       "      <td>NaN</td>\n",
       "      <td>NaN</td>\n",
       "      <td>Abroad</td>\n",
       "    </tr>\n",
       "    <tr>\n",
       "      <th>1</th>\n",
       "      <td>11-03-2020</td>\n",
       "      <td>False</td>\n",
       "      <td>True</td>\n",
       "      <td>False</td>\n",
       "      <td>False</td>\n",
       "      <td>False</td>\n",
       "      <td>positive</td>\n",
       "      <td>NaN</td>\n",
       "      <td>NaN</td>\n",
       "      <td>Abroad</td>\n",
       "    </tr>\n",
       "    <tr>\n",
       "      <th>2</th>\n",
       "      <td>11-03-2020</td>\n",
       "      <td>False</td>\n",
       "      <td>True</td>\n",
       "      <td>False</td>\n",
       "      <td>False</td>\n",
       "      <td>False</td>\n",
       "      <td>positive</td>\n",
       "      <td>NaN</td>\n",
       "      <td>NaN</td>\n",
       "      <td>Abroad</td>\n",
       "    </tr>\n",
       "    <tr>\n",
       "      <th>3</th>\n",
       "      <td>11-03-2020</td>\n",
       "      <td>True</td>\n",
       "      <td>False</td>\n",
       "      <td>False</td>\n",
       "      <td>False</td>\n",
       "      <td>False</td>\n",
       "      <td>negative</td>\n",
       "      <td>NaN</td>\n",
       "      <td>NaN</td>\n",
       "      <td>Abroad</td>\n",
       "    </tr>\n",
       "    <tr>\n",
       "      <th>4</th>\n",
       "      <td>11-03-2020</td>\n",
       "      <td>True</td>\n",
       "      <td>False</td>\n",
       "      <td>False</td>\n",
       "      <td>False</td>\n",
       "      <td>False</td>\n",
       "      <td>negative</td>\n",
       "      <td>NaN</td>\n",
       "      <td>NaN</td>\n",
       "      <td>Contact with confirmed</td>\n",
       "    </tr>\n",
       "    <tr>\n",
       "      <th>...</th>\n",
       "      <td>...</td>\n",
       "      <td>...</td>\n",
       "      <td>...</td>\n",
       "      <td>...</td>\n",
       "      <td>...</td>\n",
       "      <td>...</td>\n",
       "      <td>...</td>\n",
       "      <td>...</td>\n",
       "      <td>...</td>\n",
       "      <td>...</td>\n",
       "    </tr>\n",
       "    <tr>\n",
       "      <th>278843</th>\n",
       "      <td>30-04-2020</td>\n",
       "      <td>False</td>\n",
       "      <td>False</td>\n",
       "      <td>False</td>\n",
       "      <td>False</td>\n",
       "      <td>False</td>\n",
       "      <td>positive</td>\n",
       "      <td>NaN</td>\n",
       "      <td>male</td>\n",
       "      <td>Other</td>\n",
       "    </tr>\n",
       "    <tr>\n",
       "      <th>278844</th>\n",
       "      <td>30-04-2020</td>\n",
       "      <td>False</td>\n",
       "      <td>False</td>\n",
       "      <td>False</td>\n",
       "      <td>False</td>\n",
       "      <td>False</td>\n",
       "      <td>negative</td>\n",
       "      <td>NaN</td>\n",
       "      <td>female</td>\n",
       "      <td>Other</td>\n",
       "    </tr>\n",
       "    <tr>\n",
       "      <th>278845</th>\n",
       "      <td>30-04-2020</td>\n",
       "      <td>False</td>\n",
       "      <td>False</td>\n",
       "      <td>False</td>\n",
       "      <td>False</td>\n",
       "      <td>False</td>\n",
       "      <td>negative</td>\n",
       "      <td>NaN</td>\n",
       "      <td>male</td>\n",
       "      <td>Other</td>\n",
       "    </tr>\n",
       "    <tr>\n",
       "      <th>278846</th>\n",
       "      <td>30-04-2020</td>\n",
       "      <td>False</td>\n",
       "      <td>False</td>\n",
       "      <td>False</td>\n",
       "      <td>False</td>\n",
       "      <td>False</td>\n",
       "      <td>negative</td>\n",
       "      <td>NaN</td>\n",
       "      <td>male</td>\n",
       "      <td>Other</td>\n",
       "    </tr>\n",
       "    <tr>\n",
       "      <th>278847</th>\n",
       "      <td>30-04-2020</td>\n",
       "      <td>False</td>\n",
       "      <td>False</td>\n",
       "      <td>False</td>\n",
       "      <td>False</td>\n",
       "      <td>False</td>\n",
       "      <td>negative</td>\n",
       "      <td>NaN</td>\n",
       "      <td>female</td>\n",
       "      <td>Other</td>\n",
       "    </tr>\n",
       "  </tbody>\n",
       "</table>\n",
       "<p>278848 rows × 10 columns</p>\n",
       "</div>"
      ],
      "text/plain": [
       "         Test_date Cough_symptoms  Fever Sore_throat Shortness_of_breath  \\\n",
       "0       11-03-2020           True  False        True               False   \n",
       "1       11-03-2020          False   True       False               False   \n",
       "2       11-03-2020          False   True       False               False   \n",
       "3       11-03-2020           True  False       False               False   \n",
       "4       11-03-2020           True  False       False               False   \n",
       "...            ...            ...    ...         ...                 ...   \n",
       "278843  30-04-2020          False  False       False               False   \n",
       "278844  30-04-2020          False  False       False               False   \n",
       "278845  30-04-2020          False  False       False               False   \n",
       "278846  30-04-2020          False  False       False               False   \n",
       "278847  30-04-2020          False  False       False               False   \n",
       "\n",
       "       Headache    Corona Age_60_above     Sex           Known_contact  \n",
       "0         False  negative          NaN     NaN                  Abroad  \n",
       "1         False  positive          NaN     NaN                  Abroad  \n",
       "2         False  positive          NaN     NaN                  Abroad  \n",
       "3         False  negative          NaN     NaN                  Abroad  \n",
       "4         False  negative          NaN     NaN  Contact with confirmed  \n",
       "...         ...       ...          ...     ...                     ...  \n",
       "278843    False  positive          NaN    male                   Other  \n",
       "278844    False  negative          NaN  female                   Other  \n",
       "278845    False  negative          NaN    male                   Other  \n",
       "278846    False  negative          NaN    male                   Other  \n",
       "278847    False  negative          NaN  female                   Other  \n",
       "\n",
       "[278848 rows x 10 columns]"
      ]
     },
     "execution_count": 3,
     "metadata": {},
     "output_type": "execute_result"
    }
   ],
   "source": [
    "df.drop(['Ind_ID'], inplace=True, axis=1)\n",
    "df"
   ]
  },
  {
   "cell_type": "code",
   "execution_count": 4,
   "id": "52f35b6a",
   "metadata": {
    "execution": {
     "iopub.execute_input": "2024-08-09T09:28:16.707035Z",
     "iopub.status.busy": "2024-08-09T09:28:16.706623Z",
     "iopub.status.idle": "2024-08-09T09:28:17.011269Z",
     "shell.execute_reply": "2024-08-09T09:28:17.010175Z"
    },
    "papermill": {
     "duration": 0.323446,
     "end_time": "2024-08-09T09:28:17.013586",
     "exception": false,
     "start_time": "2024-08-09T09:28:16.690140",
     "status": "completed"
    },
    "scrolled": true,
    "tags": []
   },
   "outputs": [
    {
     "data": {
      "text/plain": [
       "Test_date                   0\n",
       "Cough_symptoms            252\n",
       "Fever                     252\n",
       "Sore_throat                 1\n",
       "Shortness_of_breath         1\n",
       "Headache                    1\n",
       "Corona                      0\n",
       "Age_60_above           127320\n",
       "Sex                     19563\n",
       "Known_contact               0\n",
       "dtype: int64"
      ]
     },
     "execution_count": 4,
     "metadata": {},
     "output_type": "execute_result"
    }
   ],
   "source": [
    "df.isna().sum()"
   ]
  },
  {
   "cell_type": "code",
   "execution_count": 5,
   "id": "89446643",
   "metadata": {
    "execution": {
     "iopub.execute_input": "2024-08-09T09:28:17.046587Z",
     "iopub.status.busy": "2024-08-09T09:28:17.045508Z",
     "iopub.status.idle": "2024-08-09T09:28:17.365611Z",
     "shell.execute_reply": "2024-08-09T09:28:17.364498Z"
    },
    "papermill": {
     "duration": 0.338803,
     "end_time": "2024-08-09T09:28:17.368177",
     "exception": false,
     "start_time": "2024-08-09T09:28:17.029374",
     "status": "completed"
    },
    "tags": []
   },
   "outputs": [
    {
     "data": {
      "text/plain": [
       "Test_date                  0\n",
       "Cough_symptoms           252\n",
       "Fever                    252\n",
       "Sore_throat                1\n",
       "Shortness_of_breath        1\n",
       "Headache                   1\n",
       "Corona                     0\n",
       "Sex                    19563\n",
       "Known_contact              0\n",
       "dtype: int64"
      ]
     },
     "execution_count": 5,
     "metadata": {},
     "output_type": "execute_result"
    }
   ],
   "source": [
    "df.drop(['Age_60_above'],axis=1,inplace=True)\n",
    "df.isna().sum()"
   ]
  },
  {
   "cell_type": "code",
   "execution_count": 6,
   "id": "c7bcc155",
   "metadata": {
    "execution": {
     "iopub.execute_input": "2024-08-09T09:28:17.400084Z",
     "iopub.status.busy": "2024-08-09T09:28:17.399710Z",
     "iopub.status.idle": "2024-08-09T09:28:17.978665Z",
     "shell.execute_reply": "2024-08-09T09:28:17.977521Z"
    },
    "papermill": {
     "duration": 0.597891,
     "end_time": "2024-08-09T09:28:17.981190",
     "exception": false,
     "start_time": "2024-08-09T09:28:17.383299",
     "status": "completed"
    },
    "tags": []
   },
   "outputs": [
    {
     "data": {
      "text/plain": [
       "Test_date              0\n",
       "Cough_symptoms         0\n",
       "Fever                  0\n",
       "Sore_throat            0\n",
       "Shortness_of_breath    0\n",
       "Headache               0\n",
       "Corona                 0\n",
       "Sex                    0\n",
       "Known_contact          0\n",
       "dtype: int64"
      ]
     },
     "execution_count": 6,
     "metadata": {},
     "output_type": "execute_result"
    }
   ],
   "source": [
    "df=df.dropna()\n",
    "df.isna().sum()"
   ]
  },
  {
   "cell_type": "code",
   "execution_count": 7,
   "id": "6e0bb8f1",
   "metadata": {
    "execution": {
     "iopub.execute_input": "2024-08-09T09:28:18.013516Z",
     "iopub.status.busy": "2024-08-09T09:28:18.013083Z",
     "iopub.status.idle": "2024-08-09T09:28:18.019982Z",
     "shell.execute_reply": "2024-08-09T09:28:18.018905Z"
    },
    "papermill": {
     "duration": 0.025645,
     "end_time": "2024-08-09T09:28:18.022341",
     "exception": false,
     "start_time": "2024-08-09T09:28:17.996696",
     "status": "completed"
    },
    "tags": []
   },
   "outputs": [
    {
     "data": {
      "text/plain": [
       "(259042, 9)"
      ]
     },
     "execution_count": 7,
     "metadata": {},
     "output_type": "execute_result"
    }
   ],
   "source": [
    "df.shape"
   ]
  },
  {
   "cell_type": "code",
   "execution_count": 8,
   "id": "2252a8d8",
   "metadata": {
    "execution": {
     "iopub.execute_input": "2024-08-09T09:28:18.055708Z",
     "iopub.status.busy": "2024-08-09T09:28:18.054823Z",
     "iopub.status.idle": "2024-08-09T09:28:18.063010Z",
     "shell.execute_reply": "2024-08-09T09:28:18.061921Z"
    },
    "papermill": {
     "duration": 0.027788,
     "end_time": "2024-08-09T09:28:18.065724",
     "exception": false,
     "start_time": "2024-08-09T09:28:18.037936",
     "status": "completed"
    },
    "scrolled": true,
    "tags": []
   },
   "outputs": [
    {
     "data": {
      "text/plain": [
       "Test_date              object\n",
       "Cough_symptoms         object\n",
       "Fever                  object\n",
       "Sore_throat            object\n",
       "Shortness_of_breath    object\n",
       "Headache               object\n",
       "Corona                 object\n",
       "Sex                    object\n",
       "Known_contact          object\n",
       "dtype: object"
      ]
     },
     "execution_count": 8,
     "metadata": {},
     "output_type": "execute_result"
    }
   ],
   "source": [
    "df.dtypes"
   ]
  },
  {
   "cell_type": "code",
   "execution_count": 9,
   "id": "211b6723",
   "metadata": {
    "execution": {
     "iopub.execute_input": "2024-08-09T09:28:18.099306Z",
     "iopub.status.busy": "2024-08-09T09:28:18.098360Z",
     "iopub.status.idle": "2024-08-09T09:28:20.355287Z",
     "shell.execute_reply": "2024-08-09T09:28:20.354070Z"
    },
    "papermill": {
     "duration": 2.276679,
     "end_time": "2024-08-09T09:28:20.358026",
     "exception": false,
     "start_time": "2024-08-09T09:28:18.081347",
     "status": "completed"
    },
    "tags": []
   },
   "outputs": [],
   "source": [
    "df['Test_date'] = pd.to_datetime(df['Test_date'], format='%d-%m-%Y').dt.strftime('%m-%d-%Y')"
   ]
  },
  {
   "cell_type": "code",
   "execution_count": 10,
   "id": "28b015d4",
   "metadata": {
    "execution": {
     "iopub.execute_input": "2024-08-09T09:28:20.391019Z",
     "iopub.status.busy": "2024-08-09T09:28:20.390604Z",
     "iopub.status.idle": "2024-08-09T09:28:20.482060Z",
     "shell.execute_reply": "2024-08-09T09:28:20.480834Z"
    },
    "papermill": {
     "duration": 0.111009,
     "end_time": "2024-08-09T09:28:20.484768",
     "exception": false,
     "start_time": "2024-08-09T09:28:20.373759",
     "status": "completed"
    },
    "tags": []
   },
   "outputs": [
    {
     "data": {
      "text/plain": [
       "Test_date              datetime64[ns]\n",
       "Cough_symptoms                 object\n",
       "Fever                          object\n",
       "Sore_throat                    object\n",
       "Shortness_of_breath            object\n",
       "Headache                       object\n",
       "Corona                         object\n",
       "Sex                            object\n",
       "Known_contact                  object\n",
       "dtype: object"
      ]
     },
     "execution_count": 10,
     "metadata": {},
     "output_type": "execute_result"
    }
   ],
   "source": [
    "df.Test_date= pd.to_datetime(df.Test_date)\n",
    "df.dtypes"
   ]
  },
  {
   "cell_type": "code",
   "execution_count": 11,
   "id": "8a7c1f05",
   "metadata": {
    "execution": {
     "iopub.execute_input": "2024-08-09T09:28:20.518391Z",
     "iopub.status.busy": "2024-08-09T09:28:20.517954Z",
     "iopub.status.idle": "2024-08-09T09:28:20.533857Z",
     "shell.execute_reply": "2024-08-09T09:28:20.532787Z"
    },
    "papermill": {
     "duration": 0.035866,
     "end_time": "2024-08-09T09:28:20.536520",
     "exception": false,
     "start_time": "2024-08-09T09:28:20.500654",
     "status": "completed"
    },
    "tags": []
   },
   "outputs": [
    {
     "data": {
      "text/html": [
       "<div>\n",
       "<style scoped>\n",
       "    .dataframe tbody tr th:only-of-type {\n",
       "        vertical-align: middle;\n",
       "    }\n",
       "\n",
       "    .dataframe tbody tr th {\n",
       "        vertical-align: top;\n",
       "    }\n",
       "\n",
       "    .dataframe thead th {\n",
       "        text-align: right;\n",
       "    }\n",
       "</style>\n",
       "<table border=\"1\" class=\"dataframe\">\n",
       "  <thead>\n",
       "    <tr style=\"text-align: right;\">\n",
       "      <th></th>\n",
       "      <th>Test_date</th>\n",
       "      <th>Cough_symptoms</th>\n",
       "      <th>Fever</th>\n",
       "      <th>Sore_throat</th>\n",
       "      <th>Shortness_of_breath</th>\n",
       "      <th>Headache</th>\n",
       "      <th>Corona</th>\n",
       "      <th>Sex</th>\n",
       "      <th>Known_contact</th>\n",
       "    </tr>\n",
       "  </thead>\n",
       "  <tbody>\n",
       "    <tr>\n",
       "      <th>13727</th>\n",
       "      <td>2020-03-22</td>\n",
       "      <td>True</td>\n",
       "      <td>False</td>\n",
       "      <td>False</td>\n",
       "      <td>False</td>\n",
       "      <td>False</td>\n",
       "      <td>negative</td>\n",
       "      <td>male</td>\n",
       "      <td>Abroad</td>\n",
       "    </tr>\n",
       "    <tr>\n",
       "      <th>13728</th>\n",
       "      <td>2020-03-22</td>\n",
       "      <td>True</td>\n",
       "      <td>False</td>\n",
       "      <td>False</td>\n",
       "      <td>False</td>\n",
       "      <td>False</td>\n",
       "      <td>negative</td>\n",
       "      <td>female</td>\n",
       "      <td>Abroad</td>\n",
       "    </tr>\n",
       "    <tr>\n",
       "      <th>13730</th>\n",
       "      <td>2020-03-22</td>\n",
       "      <td>True</td>\n",
       "      <td>True</td>\n",
       "      <td>False</td>\n",
       "      <td>False</td>\n",
       "      <td>False</td>\n",
       "      <td>positive</td>\n",
       "      <td>female</td>\n",
       "      <td>Other</td>\n",
       "    </tr>\n",
       "    <tr>\n",
       "      <th>13731</th>\n",
       "      <td>2020-03-22</td>\n",
       "      <td>False</td>\n",
       "      <td>False</td>\n",
       "      <td>False</td>\n",
       "      <td>False</td>\n",
       "      <td>False</td>\n",
       "      <td>other</td>\n",
       "      <td>female</td>\n",
       "      <td>Other</td>\n",
       "    </tr>\n",
       "    <tr>\n",
       "      <th>13732</th>\n",
       "      <td>2020-03-22</td>\n",
       "      <td>False</td>\n",
       "      <td>False</td>\n",
       "      <td>False</td>\n",
       "      <td>False</td>\n",
       "      <td>False</td>\n",
       "      <td>other</td>\n",
       "      <td>female</td>\n",
       "      <td>Other</td>\n",
       "    </tr>\n",
       "  </tbody>\n",
       "</table>\n",
       "</div>"
      ],
      "text/plain": [
       "       Test_date Cough_symptoms  Fever Sore_throat Shortness_of_breath  \\\n",
       "13727 2020-03-22           True  False       False               False   \n",
       "13728 2020-03-22           True  False       False               False   \n",
       "13730 2020-03-22           True   True       False               False   \n",
       "13731 2020-03-22          False  False       False               False   \n",
       "13732 2020-03-22          False  False       False               False   \n",
       "\n",
       "      Headache    Corona     Sex Known_contact  \n",
       "13727    False  negative    male        Abroad  \n",
       "13728    False  negative  female        Abroad  \n",
       "13730    False  positive  female         Other  \n",
       "13731    False     other  female         Other  \n",
       "13732    False     other  female         Other  "
      ]
     },
     "execution_count": 11,
     "metadata": {},
     "output_type": "execute_result"
    }
   ],
   "source": [
    "df.head()"
   ]
  },
  {
   "cell_type": "code",
   "execution_count": 12,
   "id": "e0e477bb",
   "metadata": {
    "execution": {
     "iopub.execute_input": "2024-08-09T09:28:20.570708Z",
     "iopub.status.busy": "2024-08-09T09:28:20.569666Z",
     "iopub.status.idle": "2024-08-09T09:28:20.576971Z",
     "shell.execute_reply": "2024-08-09T09:28:20.575961Z"
    },
    "papermill": {
     "duration": 0.026882,
     "end_time": "2024-08-09T09:28:20.579388",
     "exception": false,
     "start_time": "2024-08-09T09:28:20.552506",
     "status": "completed"
    },
    "tags": []
   },
   "outputs": [
    {
     "data": {
      "text/plain": [
       "array(['negative', 'negative', 'positive', ..., 'negative', 'negative',\n",
       "       'negative'], dtype=object)"
      ]
     },
     "execution_count": 12,
     "metadata": {},
     "output_type": "execute_result"
    }
   ],
   "source": [
    "df['Corona'].values"
   ]
  },
  {
   "cell_type": "code",
   "execution_count": 13,
   "id": "25ec06b5",
   "metadata": {
    "execution": {
     "iopub.execute_input": "2024-08-09T09:28:20.613210Z",
     "iopub.status.busy": "2024-08-09T09:28:20.612818Z",
     "iopub.status.idle": "2024-08-09T09:28:20.650995Z",
     "shell.execute_reply": "2024-08-09T09:28:20.649899Z"
    },
    "papermill": {
     "duration": 0.058802,
     "end_time": "2024-08-09T09:28:20.654231",
     "exception": false,
     "start_time": "2024-08-09T09:28:20.595429",
     "status": "completed"
    },
    "scrolled": true,
    "tags": []
   },
   "outputs": [
    {
     "data": {
      "text/html": [
       "<div>\n",
       "<style scoped>\n",
       "    .dataframe tbody tr th:only-of-type {\n",
       "        vertical-align: middle;\n",
       "    }\n",
       "\n",
       "    .dataframe tbody tr th {\n",
       "        vertical-align: top;\n",
       "    }\n",
       "\n",
       "    .dataframe thead th {\n",
       "        text-align: right;\n",
       "    }\n",
       "</style>\n",
       "<table border=\"1\" class=\"dataframe\">\n",
       "  <thead>\n",
       "    <tr style=\"text-align: right;\">\n",
       "      <th></th>\n",
       "      <th>Cough_symptoms</th>\n",
       "      <th>Fever</th>\n",
       "      <th>Sore_throat</th>\n",
       "      <th>Shortness_of_breath</th>\n",
       "      <th>Headache</th>\n",
       "      <th>Corona</th>\n",
       "      <th>Sex</th>\n",
       "      <th>Known_contact</th>\n",
       "    </tr>\n",
       "  </thead>\n",
       "  <tbody>\n",
       "    <tr>\n",
       "      <th>13727</th>\n",
       "      <td>True</td>\n",
       "      <td>False</td>\n",
       "      <td>False</td>\n",
       "      <td>False</td>\n",
       "      <td>False</td>\n",
       "      <td>negative</td>\n",
       "      <td>male</td>\n",
       "      <td>Abroad</td>\n",
       "    </tr>\n",
       "    <tr>\n",
       "      <th>13728</th>\n",
       "      <td>True</td>\n",
       "      <td>False</td>\n",
       "      <td>False</td>\n",
       "      <td>False</td>\n",
       "      <td>False</td>\n",
       "      <td>negative</td>\n",
       "      <td>female</td>\n",
       "      <td>Abroad</td>\n",
       "    </tr>\n",
       "    <tr>\n",
       "      <th>13730</th>\n",
       "      <td>True</td>\n",
       "      <td>True</td>\n",
       "      <td>False</td>\n",
       "      <td>False</td>\n",
       "      <td>False</td>\n",
       "      <td>positive</td>\n",
       "      <td>female</td>\n",
       "      <td>Other</td>\n",
       "    </tr>\n",
       "    <tr>\n",
       "      <th>13731</th>\n",
       "      <td>False</td>\n",
       "      <td>False</td>\n",
       "      <td>False</td>\n",
       "      <td>False</td>\n",
       "      <td>False</td>\n",
       "      <td>other</td>\n",
       "      <td>female</td>\n",
       "      <td>Other</td>\n",
       "    </tr>\n",
       "    <tr>\n",
       "      <th>13732</th>\n",
       "      <td>False</td>\n",
       "      <td>False</td>\n",
       "      <td>False</td>\n",
       "      <td>False</td>\n",
       "      <td>False</td>\n",
       "      <td>other</td>\n",
       "      <td>female</td>\n",
       "      <td>Other</td>\n",
       "    </tr>\n",
       "  </tbody>\n",
       "</table>\n",
       "</div>"
      ],
      "text/plain": [
       "      Cough_symptoms  Fever Sore_throat Shortness_of_breath Headache  \\\n",
       "13727           True  False       False               False    False   \n",
       "13728           True  False       False               False    False   \n",
       "13730           True   True       False               False    False   \n",
       "13731          False  False       False               False    False   \n",
       "13732          False  False       False               False    False   \n",
       "\n",
       "         Corona     Sex Known_contact  \n",
       "13727  negative    male        Abroad  \n",
       "13728  negative  female        Abroad  \n",
       "13730  positive  female         Other  \n",
       "13731     other  female         Other  \n",
       "13732     other  female         Other  "
      ]
     },
     "execution_count": 13,
     "metadata": {},
     "output_type": "execute_result"
    }
   ],
   "source": [
    "cols = df.columns[df.dtypes.eq('object')]\n",
    "df[cols].head()"
   ]
  },
  {
   "cell_type": "code",
   "execution_count": 14,
   "id": "ab294ef2",
   "metadata": {
    "execution": {
     "iopub.execute_input": "2024-08-09T09:28:20.690117Z",
     "iopub.status.busy": "2024-08-09T09:28:20.689698Z",
     "iopub.status.idle": "2024-08-09T09:28:21.208732Z",
     "shell.execute_reply": "2024-08-09T09:28:21.207605Z"
    },
    "papermill": {
     "duration": 0.539963,
     "end_time": "2024-08-09T09:28:21.211184",
     "exception": false,
     "start_time": "2024-08-09T09:28:20.671221",
     "status": "completed"
    },
    "tags": []
   },
   "outputs": [
    {
     "data": {
      "image/png": "[encoded data removed]",
      "text/plain": [
       "<Figure size 400x200 with 1 Axes>"
      ]
     },
     "metadata": {},
     "output_type": "display_data"
    }
   ],
   "source": [
    "def CPlot(feature) : \n",
    "    global data\n",
    "    fig, ax = plt.subplots(figsize=(4,2))\n",
    "    sns.countplot(x=feature, data=df,facecolor=(0, 0, 0, 0),linewidth=5,edgecolor=sns.color_palette(\"dark\", 3))\n",
    "\n",
    "CPlot('Corona')"
   ]
  },
  {
   "cell_type": "code",
   "execution_count": 15,
   "id": "f7d3e3aa",
   "metadata": {
    "execution": {
     "iopub.execute_input": "2024-08-09T09:28:21.247270Z",
     "iopub.status.busy": "2024-08-09T09:28:21.246525Z",
     "iopub.status.idle": "2024-08-09T09:28:21.344113Z",
     "shell.execute_reply": "2024-08-09T09:28:21.342875Z"
    },
    "papermill": {
     "duration": 0.11865,
     "end_time": "2024-08-09T09:28:21.346662",
     "exception": false,
     "start_time": "2024-08-09T09:28:21.228012",
     "status": "completed"
    },
    "tags": []
   },
   "outputs": [
    {
     "data": {
      "text/html": [
       "<div>\n",
       "<style scoped>\n",
       "    .dataframe tbody tr th:only-of-type {\n",
       "        vertical-align: middle;\n",
       "    }\n",
       "\n",
       "    .dataframe tbody tr th {\n",
       "        vertical-align: top;\n",
       "    }\n",
       "\n",
       "    .dataframe thead th {\n",
       "        text-align: right;\n",
       "    }\n",
       "</style>\n",
       "<table border=\"1\" class=\"dataframe\">\n",
       "  <thead>\n",
       "    <tr style=\"text-align: right;\">\n",
       "      <th></th>\n",
       "      <th>Test_date</th>\n",
       "      <th>Cough_symptoms</th>\n",
       "      <th>Fever</th>\n",
       "      <th>Sore_throat</th>\n",
       "      <th>Shortness_of_breath</th>\n",
       "      <th>Headache</th>\n",
       "      <th>Corona</th>\n",
       "      <th>Sex</th>\n",
       "      <th>Known_contact</th>\n",
       "    </tr>\n",
       "  </thead>\n",
       "  <tbody>\n",
       "    <tr>\n",
       "      <th>13727</th>\n",
       "      <td>2020-03-22</td>\n",
       "      <td>True</td>\n",
       "      <td>False</td>\n",
       "      <td>False</td>\n",
       "      <td>False</td>\n",
       "      <td>False</td>\n",
       "      <td>negative</td>\n",
       "      <td>male</td>\n",
       "      <td>Abroad</td>\n",
       "    </tr>\n",
       "    <tr>\n",
       "      <th>13728</th>\n",
       "      <td>2020-03-22</td>\n",
       "      <td>True</td>\n",
       "      <td>False</td>\n",
       "      <td>False</td>\n",
       "      <td>False</td>\n",
       "      <td>False</td>\n",
       "      <td>negative</td>\n",
       "      <td>female</td>\n",
       "      <td>Abroad</td>\n",
       "    </tr>\n",
       "    <tr>\n",
       "      <th>13730</th>\n",
       "      <td>2020-03-22</td>\n",
       "      <td>True</td>\n",
       "      <td>True</td>\n",
       "      <td>False</td>\n",
       "      <td>False</td>\n",
       "      <td>False</td>\n",
       "      <td>positive</td>\n",
       "      <td>female</td>\n",
       "      <td>Other</td>\n",
       "    </tr>\n",
       "    <tr>\n",
       "      <th>13734</th>\n",
       "      <td>2020-03-22</td>\n",
       "      <td>False</td>\n",
       "      <td>False</td>\n",
       "      <td>False</td>\n",
       "      <td>False</td>\n",
       "      <td>False</td>\n",
       "      <td>negative</td>\n",
       "      <td>male</td>\n",
       "      <td>Other</td>\n",
       "    </tr>\n",
       "    <tr>\n",
       "      <th>13735</th>\n",
       "      <td>2020-03-22</td>\n",
       "      <td>False</td>\n",
       "      <td>False</td>\n",
       "      <td>False</td>\n",
       "      <td>False</td>\n",
       "      <td>False</td>\n",
       "      <td>negative</td>\n",
       "      <td>female</td>\n",
       "      <td>Other</td>\n",
       "    </tr>\n",
       "    <tr>\n",
       "      <th>...</th>\n",
       "      <td>...</td>\n",
       "      <td>...</td>\n",
       "      <td>...</td>\n",
       "      <td>...</td>\n",
       "      <td>...</td>\n",
       "      <td>...</td>\n",
       "      <td>...</td>\n",
       "      <td>...</td>\n",
       "      <td>...</td>\n",
       "    </tr>\n",
       "    <tr>\n",
       "      <th>278843</th>\n",
       "      <td>2020-04-30</td>\n",
       "      <td>False</td>\n",
       "      <td>False</td>\n",
       "      <td>False</td>\n",
       "      <td>False</td>\n",
       "      <td>False</td>\n",
       "      <td>positive</td>\n",
       "      <td>male</td>\n",
       "      <td>Other</td>\n",
       "    </tr>\n",
       "    <tr>\n",
       "      <th>278844</th>\n",
       "      <td>2020-04-30</td>\n",
       "      <td>False</td>\n",
       "      <td>False</td>\n",
       "      <td>False</td>\n",
       "      <td>False</td>\n",
       "      <td>False</td>\n",
       "      <td>negative</td>\n",
       "      <td>female</td>\n",
       "      <td>Other</td>\n",
       "    </tr>\n",
       "    <tr>\n",
       "      <th>278845</th>\n",
       "      <td>2020-04-30</td>\n",
       "      <td>False</td>\n",
       "      <td>False</td>\n",
       "      <td>False</td>\n",
       "      <td>False</td>\n",
       "      <td>False</td>\n",
       "      <td>negative</td>\n",
       "      <td>male</td>\n",
       "      <td>Other</td>\n",
       "    </tr>\n",
       "    <tr>\n",
       "      <th>278846</th>\n",
       "      <td>2020-04-30</td>\n",
       "      <td>False</td>\n",
       "      <td>False</td>\n",
       "      <td>False</td>\n",
       "      <td>False</td>\n",
       "      <td>False</td>\n",
       "      <td>negative</td>\n",
       "      <td>male</td>\n",
       "      <td>Other</td>\n",
       "    </tr>\n",
       "    <tr>\n",
       "      <th>278847</th>\n",
       "      <td>2020-04-30</td>\n",
       "      <td>False</td>\n",
       "      <td>False</td>\n",
       "      <td>False</td>\n",
       "      <td>False</td>\n",
       "      <td>False</td>\n",
       "      <td>negative</td>\n",
       "      <td>female</td>\n",
       "      <td>Other</td>\n",
       "    </tr>\n",
       "  </tbody>\n",
       "</table>\n",
       "<p>255668 rows × 9 columns</p>\n",
       "</div>"
      ],
      "text/plain": [
       "        Test_date Cough_symptoms  Fever Sore_throat Shortness_of_breath  \\\n",
       "13727  2020-03-22           True  False       False               False   \n",
       "13728  2020-03-22           True  False       False               False   \n",
       "13730  2020-03-22           True   True       False               False   \n",
       "13734  2020-03-22          False  False       False               False   \n",
       "13735  2020-03-22          False  False       False               False   \n",
       "...           ...            ...    ...         ...                 ...   \n",
       "278843 2020-04-30          False  False       False               False   \n",
       "278844 2020-04-30          False  False       False               False   \n",
       "278845 2020-04-30          False  False       False               False   \n",
       "278846 2020-04-30          False  False       False               False   \n",
       "278847 2020-04-30          False  False       False               False   \n",
       "\n",
       "       Headache    Corona     Sex Known_contact  \n",
       "13727     False  negative    male        Abroad  \n",
       "13728     False  negative  female        Abroad  \n",
       "13730     False  positive  female         Other  \n",
       "13734     False  negative    male         Other  \n",
       "13735     False  negative  female         Other  \n",
       "...         ...       ...     ...           ...  \n",
       "278843    False  positive    male         Other  \n",
       "278844    False  negative  female         Other  \n",
       "278845    False  negative    male         Other  \n",
       "278846    False  negative    male         Other  \n",
       "278847    False  negative  female         Other  \n",
       "\n",
       "[255668 rows x 9 columns]"
      ]
     },
     "execution_count": 15,
     "metadata": {},
     "output_type": "execute_result"
    }
   ],
   "source": [
    "\n",
    "df = df[df['Corona'] != 'other']\n",
    "df"
   ]
  },
  {
   "cell_type": "code",
   "execution_count": 16,
   "id": "d7772313",
   "metadata": {
    "execution": {
     "iopub.execute_input": "2024-08-09T09:28:21.382855Z",
     "iopub.status.busy": "2024-08-09T09:28:21.382421Z",
     "iopub.status.idle": "2024-08-09T09:28:21.856027Z",
     "shell.execute_reply": "2024-08-09T09:28:21.854898Z"
    },
    "papermill": {
     "duration": 0.49522,
     "end_time": "2024-08-09T09:28:21.859229",
     "exception": false,
     "start_time": "2024-08-09T09:28:21.364009",
     "status": "completed"
    },
    "tags": []
   },
   "outputs": [
    {
     "data": {
      "image/png": "[encoded data removed]",
      "text/plain": [
       "<Figure size 400x200 with 1 Axes>"
      ]
     },
     "metadata": {},
     "output_type": "display_data"
    }
   ],
   "source": [
    "def CPlot(feature) : \n",
    "    global data\n",
    "    fig, ax = plt.subplots(figsize=(4,2))\n",
    "    sns.countplot(x=feature, data=df,facecolor=(0, 0, 0, 0),linewidth=5,edgecolor=sns.color_palette(\"dark\", 3))\n",
    "\n",
    "CPlot('Corona')"
   ]
  },
  {
   "cell_type": "code",
   "execution_count": 17,
   "id": "4ab71bd8",
   "metadata": {
    "execution": {
     "iopub.execute_input": "2024-08-09T09:28:21.898343Z",
     "iopub.status.busy": "2024-08-09T09:28:21.897932Z",
     "iopub.status.idle": "2024-08-09T09:28:22.523208Z",
     "shell.execute_reply": "2024-08-09T09:28:22.521759Z"
    },
    "papermill": {
     "duration": 0.647617,
     "end_time": "2024-08-09T09:28:22.526083",
     "exception": false,
     "start_time": "2024-08-09T09:28:21.878466",
     "status": "completed"
    },
    "tags": []
   },
   "outputs": [],
   "source": [
    "le = LabelEncoder()\n",
    "df[cols] = df[cols].apply(le.fit_transform)"
   ]
  },
  {
   "cell_type": "code",
   "execution_count": 18,
   "id": "3dd2980e",
   "metadata": {
    "execution": {
     "iopub.execute_input": "2024-08-09T09:28:22.570640Z",
     "iopub.status.busy": "2024-08-09T09:28:22.569699Z",
     "iopub.status.idle": "2024-08-09T09:28:22.578215Z",
     "shell.execute_reply": "2024-08-09T09:28:22.577163Z"
    },
    "papermill": {
     "duration": 0.029974,
     "end_time": "2024-08-09T09:28:22.580611",
     "exception": false,
     "start_time": "2024-08-09T09:28:22.550637",
     "status": "completed"
    },
    "tags": []
   },
   "outputs": [
    {
     "data": {
      "text/plain": [
       "Test_date              datetime64[ns]\n",
       "Cough_symptoms                  int64\n",
       "Fever                           int64\n",
       "Sore_throat                     int64\n",
       "Shortness_of_breath             int64\n",
       "Headache                        int64\n",
       "Corona                          int64\n",
       "Sex                             int64\n",
       "Known_contact                   int64\n",
       "dtype: object"
      ]
     },
     "execution_count": 18,
     "metadata": {},
     "output_type": "execute_result"
    }
   ],
   "source": [
    "df.dtypes"
   ]
  },
  {
   "cell_type": "code",
   "execution_count": 19,
   "id": "8bfaec1c",
   "metadata": {
    "execution": {
     "iopub.execute_input": "2024-08-09T09:28:22.617517Z",
     "iopub.status.busy": "2024-08-09T09:28:22.616785Z",
     "iopub.status.idle": "2024-08-09T09:28:22.633999Z",
     "shell.execute_reply": "2024-08-09T09:28:22.632895Z"
    },
    "papermill": {
     "duration": 0.038739,
     "end_time": "2024-08-09T09:28:22.636801",
     "exception": false,
     "start_time": "2024-08-09T09:28:22.598062",
     "status": "completed"
    },
    "tags": []
   },
   "outputs": [
    {
     "data": {
      "text/html": [
       "<div>\n",
       "<style scoped>\n",
       "    .dataframe tbody tr th:only-of-type {\n",
       "        vertical-align: middle;\n",
       "    }\n",
       "\n",
       "    .dataframe tbody tr th {\n",
       "        vertical-align: top;\n",
       "    }\n",
       "\n",
       "    .dataframe thead th {\n",
       "        text-align: right;\n",
       "    }\n",
       "</style>\n",
       "<table border=\"1\" class=\"dataframe\">\n",
       "  <thead>\n",
       "    <tr style=\"text-align: right;\">\n",
       "      <th></th>\n",
       "      <th>Test_date</th>\n",
       "      <th>Cough_symptoms</th>\n",
       "      <th>Fever</th>\n",
       "      <th>Sore_throat</th>\n",
       "      <th>Shortness_of_breath</th>\n",
       "      <th>Headache</th>\n",
       "      <th>Corona</th>\n",
       "      <th>Sex</th>\n",
       "      <th>Known_contact</th>\n",
       "    </tr>\n",
       "  </thead>\n",
       "  <tbody>\n",
       "    <tr>\n",
       "      <th>13727</th>\n",
       "      <td>2020-03-22</td>\n",
       "      <td>1</td>\n",
       "      <td>0</td>\n",
       "      <td>0</td>\n",
       "      <td>0</td>\n",
       "      <td>0</td>\n",
       "      <td>0</td>\n",
       "      <td>1</td>\n",
       "      <td>0</td>\n",
       "    </tr>\n",
       "    <tr>\n",
       "      <th>13728</th>\n",
       "      <td>2020-03-22</td>\n",
       "      <td>1</td>\n",
       "      <td>0</td>\n",
       "      <td>0</td>\n",
       "      <td>0</td>\n",
       "      <td>0</td>\n",
       "      <td>0</td>\n",
       "      <td>0</td>\n",
       "      <td>0</td>\n",
       "    </tr>\n",
       "    <tr>\n",
       "      <th>13730</th>\n",
       "      <td>2020-03-22</td>\n",
       "      <td>1</td>\n",
       "      <td>1</td>\n",
       "      <td>0</td>\n",
       "      <td>0</td>\n",
       "      <td>0</td>\n",
       "      <td>1</td>\n",
       "      <td>0</td>\n",
       "      <td>2</td>\n",
       "    </tr>\n",
       "    <tr>\n",
       "      <th>13734</th>\n",
       "      <td>2020-03-22</td>\n",
       "      <td>0</td>\n",
       "      <td>0</td>\n",
       "      <td>0</td>\n",
       "      <td>0</td>\n",
       "      <td>0</td>\n",
       "      <td>0</td>\n",
       "      <td>1</td>\n",
       "      <td>2</td>\n",
       "    </tr>\n",
       "    <tr>\n",
       "      <th>13735</th>\n",
       "      <td>2020-03-22</td>\n",
       "      <td>0</td>\n",
       "      <td>0</td>\n",
       "      <td>0</td>\n",
       "      <td>0</td>\n",
       "      <td>0</td>\n",
       "      <td>0</td>\n",
       "      <td>0</td>\n",
       "      <td>2</td>\n",
       "    </tr>\n",
       "    <tr>\n",
       "      <th>...</th>\n",
       "      <td>...</td>\n",
       "      <td>...</td>\n",
       "      <td>...</td>\n",
       "      <td>...</td>\n",
       "      <td>...</td>\n",
       "      <td>...</td>\n",
       "      <td>...</td>\n",
       "      <td>...</td>\n",
       "      <td>...</td>\n",
       "    </tr>\n",
       "    <tr>\n",
       "      <th>278843</th>\n",
       "      <td>2020-04-30</td>\n",
       "      <td>0</td>\n",
       "      <td>0</td>\n",
       "      <td>0</td>\n",
       "      <td>0</td>\n",
       "      <td>0</td>\n",
       "      <td>1</td>\n",
       "      <td>1</td>\n",
       "      <td>2</td>\n",
       "    </tr>\n",
       "    <tr>\n",
       "      <th>278844</th>\n",
       "      <td>2020-04-30</td>\n",
       "      <td>0</td>\n",
       "      <td>0</td>\n",
       "      <td>0</td>\n",
       "      <td>0</td>\n",
       "      <td>0</td>\n",
       "      <td>0</td>\n",
       "      <td>0</td>\n",
       "      <td>2</td>\n",
       "    </tr>\n",
       "    <tr>\n",
       "      <th>278845</th>\n",
       "      <td>2020-04-30</td>\n",
       "      <td>0</td>\n",
       "      <td>0</td>\n",
       "      <td>0</td>\n",
       "      <td>0</td>\n",
       "      <td>0</td>\n",
       "      <td>0</td>\n",
       "      <td>1</td>\n",
       "      <td>2</td>\n",
       "    </tr>\n",
       "    <tr>\n",
       "      <th>278846</th>\n",
       "      <td>2020-04-30</td>\n",
       "      <td>0</td>\n",
       "      <td>0</td>\n",
       "      <td>0</td>\n",
       "      <td>0</td>\n",
       "      <td>0</td>\n",
       "      <td>0</td>\n",
       "      <td>1</td>\n",
       "      <td>2</td>\n",
       "    </tr>\n",
       "    <tr>\n",
       "      <th>278847</th>\n",
       "      <td>2020-04-30</td>\n",
       "      <td>0</td>\n",
       "      <td>0</td>\n",
       "      <td>0</td>\n",
       "      <td>0</td>\n",
       "      <td>0</td>\n",
       "      <td>0</td>\n",
       "      <td>0</td>\n",
       "      <td>2</td>\n",
       "    </tr>\n",
       "  </tbody>\n",
       "</table>\n",
       "<p>255668 rows × 9 columns</p>\n",
       "</div>"
      ],
      "text/plain": [
       "        Test_date  Cough_symptoms  Fever  Sore_throat  Shortness_of_breath  \\\n",
       "13727  2020-03-22               1      0            0                    0   \n",
       "13728  2020-03-22               1      0            0                    0   \n",
       "13730  2020-03-22               1      1            0                    0   \n",
       "13734  2020-03-22               0      0            0                    0   \n",
       "13735  2020-03-22               0      0            0                    0   \n",
       "...           ...             ...    ...          ...                  ...   \n",
       "278843 2020-04-30               0      0            0                    0   \n",
       "278844 2020-04-30               0      0            0                    0   \n",
       "278845 2020-04-30               0      0            0                    0   \n",
       "278846 2020-04-30               0      0            0                    0   \n",
       "278847 2020-04-30               0      0            0                    0   \n",
       "\n",
       "        Headache  Corona  Sex  Known_contact  \n",
       "13727          0       0    1              0  \n",
       "13728          0       0    0              0  \n",
       "13730          0       1    0              2  \n",
       "13734          0       0    1              2  \n",
       "13735          0       0    0              2  \n",
       "...          ...     ...  ...            ...  \n",
       "278843         0       1    1              2  \n",
       "278844         0       0    0              2  \n",
       "278845         0       0    1              2  \n",
       "278846         0       0    1              2  \n",
       "278847         0       0    0              2  \n",
       "\n",
       "[255668 rows x 9 columns]"
      ]
     },
     "execution_count": 19,
     "metadata": {},
     "output_type": "execute_result"
    }
   ],
   "source": [
    "pd.DataFrame(df)"
   ]
  },
  {
   "cell_type": "code",
   "execution_count": 20,
   "id": "3c114770",
   "metadata": {
    "execution": {
     "iopub.execute_input": "2024-08-09T09:28:22.676007Z",
     "iopub.status.busy": "2024-08-09T09:28:22.674901Z",
     "iopub.status.idle": "2024-08-09T09:28:22.742000Z",
     "shell.execute_reply": "2024-08-09T09:28:22.740928Z"
    },
    "papermill": {
     "duration": 0.089921,
     "end_time": "2024-08-09T09:28:22.744899",
     "exception": false,
     "start_time": "2024-08-09T09:28:22.654978",
     "status": "completed"
    },
    "scrolled": true,
    "tags": []
   },
   "outputs": [
    {
     "data": {
      "text/plain": [
       "Corona                 1.000000\n",
       "Headache               0.366278\n",
       "Sore_throat            0.293147\n",
       "Fever                  0.260399\n",
       "Shortness_of_breath    0.248565\n",
       "Cough_symptoms         0.194106\n",
       "Sex                    0.026961\n",
       "Known_contact         -0.197408\n",
       "Name: Corona, dtype: float64"
      ]
     },
     "execution_count": 20,
     "metadata": {},
     "output_type": "execute_result"
    }
   ],
   "source": [
    "df.corr(numeric_only = True)['Corona'].sort_values(ascending=False)"
   ]
  },
  {
   "cell_type": "code",
   "execution_count": 21,
   "id": "443be4c8",
   "metadata": {
    "execution": {
     "iopub.execute_input": "2024-08-09T09:28:22.783227Z",
     "iopub.status.busy": "2024-08-09T09:28:22.782792Z",
     "iopub.status.idle": "2024-08-09T09:28:22.789450Z",
     "shell.execute_reply": "2024-08-09T09:28:22.788266Z"
    },
    "papermill": {
     "duration": 0.028575,
     "end_time": "2024-08-09T09:28:22.791934",
     "exception": false,
     "start_time": "2024-08-09T09:28:22.763359",
     "status": "completed"
    },
    "tags": []
   },
   "outputs": [],
   "source": [
    "def CPlot(feature) : \n",
    "    global data\n",
    "    fig, ax = plt.subplots(figsize=(4,2))\n",
    "    sns.countplot(x=feature, data=df,facecolor=(0, 0, 0, 0),linewidth=5,edgecolor=sns.color_palette(\"dark\", 3))"
   ]
  },
  {
   "cell_type": "code",
   "execution_count": 22,
   "id": "d215c536",
   "metadata": {
    "execution": {
     "iopub.execute_input": "2024-08-09T09:28:22.830502Z",
     "iopub.status.busy": "2024-08-09T09:28:22.830120Z",
     "iopub.status.idle": "2024-08-09T09:28:23.033195Z",
     "shell.execute_reply": "2024-08-09T09:28:23.032024Z"
    },
    "papermill": {
     "duration": 0.225637,
     "end_time": "2024-08-09T09:28:23.035842",
     "exception": false,
     "start_time": "2024-08-09T09:28:22.810205",
     "status": "completed"
    },
    "tags": []
   },
   "outputs": [
    {
     "data": {
      "image/png": "[encoded data removed]",
      "text/plain": [
       "<Figure size 400x200 with 1 Axes>"
      ]
     },
     "metadata": {},
     "output_type": "display_data"
    }
   ],
   "source": [
    "CPlot('Corona')"
   ]
  },
  {
   "cell_type": "code",
   "execution_count": 23,
   "id": "3c746f2c",
   "metadata": {
    "execution": {
     "iopub.execute_input": "2024-08-09T09:28:23.146052Z",
     "iopub.status.busy": "2024-08-09T09:28:23.145671Z",
     "iopub.status.idle": "2024-08-09T09:28:23.165452Z",
     "shell.execute_reply": "2024-08-09T09:28:23.164366Z"
    },
    "papermill": {
     "duration": 0.113546,
     "end_time": "2024-08-09T09:28:23.167926",
     "exception": false,
     "start_time": "2024-08-09T09:28:23.054380",
     "status": "completed"
    },
    "tags": []
   },
   "outputs": [
    {
     "data": {
      "text/html": [
       "<div>\n",
       "<style scoped>\n",
       "    .dataframe tbody tr th:only-of-type {\n",
       "        vertical-align: middle;\n",
       "    }\n",
       "\n",
       "    .dataframe tbody tr th {\n",
       "        vertical-align: top;\n",
       "    }\n",
       "\n",
       "    .dataframe thead th {\n",
       "        text-align: right;\n",
       "    }\n",
       "</style>\n",
       "<table border=\"1\" class=\"dataframe\">\n",
       "  <thead>\n",
       "    <tr style=\"text-align: right;\">\n",
       "      <th></th>\n",
       "      <th>Cough_symptoms</th>\n",
       "      <th>Fever</th>\n",
       "      <th>Sore_throat</th>\n",
       "      <th>Shortness_of_breath</th>\n",
       "      <th>Headache</th>\n",
       "      <th>Sex</th>\n",
       "    </tr>\n",
       "  </thead>\n",
       "  <tbody>\n",
       "    <tr>\n",
       "      <th>13727</th>\n",
       "      <td>1</td>\n",
       "      <td>0</td>\n",
       "      <td>0</td>\n",
       "      <td>0</td>\n",
       "      <td>0</td>\n",
       "      <td>1</td>\n",
       "    </tr>\n",
       "    <tr>\n",
       "      <th>13728</th>\n",
       "      <td>1</td>\n",
       "      <td>0</td>\n",
       "      <td>0</td>\n",
       "      <td>0</td>\n",
       "      <td>0</td>\n",
       "      <td>0</td>\n",
       "    </tr>\n",
       "    <tr>\n",
       "      <th>13730</th>\n",
       "      <td>1</td>\n",
       "      <td>1</td>\n",
       "      <td>0</td>\n",
       "      <td>0</td>\n",
       "      <td>0</td>\n",
       "      <td>0</td>\n",
       "    </tr>\n",
       "    <tr>\n",
       "      <th>13734</th>\n",
       "      <td>0</td>\n",
       "      <td>0</td>\n",
       "      <td>0</td>\n",
       "      <td>0</td>\n",
       "      <td>0</td>\n",
       "      <td>1</td>\n",
       "    </tr>\n",
       "    <tr>\n",
       "      <th>13735</th>\n",
       "      <td>0</td>\n",
       "      <td>0</td>\n",
       "      <td>0</td>\n",
       "      <td>0</td>\n",
       "      <td>0</td>\n",
       "      <td>0</td>\n",
       "    </tr>\n",
       "    <tr>\n",
       "      <th>...</th>\n",
       "      <td>...</td>\n",
       "      <td>...</td>\n",
       "      <td>...</td>\n",
       "      <td>...</td>\n",
       "      <td>...</td>\n",
       "      <td>...</td>\n",
       "    </tr>\n",
       "    <tr>\n",
       "      <th>278843</th>\n",
       "      <td>0</td>\n",
       "      <td>0</td>\n",
       "      <td>0</td>\n",
       "      <td>0</td>\n",
       "      <td>0</td>\n",
       "      <td>1</td>\n",
       "    </tr>\n",
       "    <tr>\n",
       "      <th>278844</th>\n",
       "      <td>0</td>\n",
       "      <td>0</td>\n",
       "      <td>0</td>\n",
       "      <td>0</td>\n",
       "      <td>0</td>\n",
       "      <td>0</td>\n",
       "    </tr>\n",
       "    <tr>\n",
       "      <th>278845</th>\n",
       "      <td>0</td>\n",
       "      <td>0</td>\n",
       "      <td>0</td>\n",
       "      <td>0</td>\n",
       "      <td>0</td>\n",
       "      <td>1</td>\n",
       "    </tr>\n",
       "    <tr>\n",
       "      <th>278846</th>\n",
       "      <td>0</td>\n",
       "      <td>0</td>\n",
       "      <td>0</td>\n",
       "      <td>0</td>\n",
       "      <td>0</td>\n",
       "      <td>1</td>\n",
       "    </tr>\n",
       "    <tr>\n",
       "      <th>278847</th>\n",
       "      <td>0</td>\n",
       "      <td>0</td>\n",
       "      <td>0</td>\n",
       "      <td>0</td>\n",
       "      <td>0</td>\n",
       "      <td>0</td>\n",
       "    </tr>\n",
       "  </tbody>\n",
       "</table>\n",
       "<p>255668 rows × 6 columns</p>\n",
       "</div>"
      ],
      "text/plain": [
       "        Cough_symptoms  Fever  Sore_throat  Shortness_of_breath  Headache  Sex\n",
       "13727                1      0            0                    0         0    1\n",
       "13728                1      0            0                    0         0    0\n",
       "13730                1      1            0                    0         0    0\n",
       "13734                0      0            0                    0         0    1\n",
       "13735                0      0            0                    0         0    0\n",
       "...                ...    ...          ...                  ...       ...  ...\n",
       "278843               0      0            0                    0         0    1\n",
       "278844               0      0            0                    0         0    0\n",
       "278845               0      0            0                    0         0    1\n",
       "278846               0      0            0                    0         0    1\n",
       "278847               0      0            0                    0         0    0\n",
       "\n",
       "[255668 rows x 6 columns]"
      ]
     },
     "execution_count": 23,
     "metadata": {},
     "output_type": "execute_result"
    }
   ],
   "source": [
    "x = df.drop(['Corona','Test_date','Known_contact'], inplace=False, axis=1)\n",
    "x"
   ]
  },
  {
   "cell_type": "code",
   "execution_count": 24,
   "id": "56b61332",
   "metadata": {
    "execution": {
     "iopub.execute_input": "2024-08-09T09:28:23.207607Z",
     "iopub.status.busy": "2024-08-09T09:28:23.206610Z",
     "iopub.status.idle": "2024-08-09T09:28:23.215699Z",
     "shell.execute_reply": "2024-08-09T09:28:23.214458Z"
    },
    "papermill": {
     "duration": 0.031515,
     "end_time": "2024-08-09T09:28:23.218149",
     "exception": false,
     "start_time": "2024-08-09T09:28:23.186634",
     "status": "completed"
    },
    "tags": []
   },
   "outputs": [
    {
     "data": {
      "text/plain": [
       "13727     0\n",
       "13728     0\n",
       "13730     1\n",
       "13734     0\n",
       "13735     0\n",
       "         ..\n",
       "278843    1\n",
       "278844    0\n",
       "278845    0\n",
       "278846    0\n",
       "278847    0\n",
       "Name: Corona, Length: 255668, dtype: int64"
      ]
     },
     "execution_count": 24,
     "metadata": {},
     "output_type": "execute_result"
    }
   ],
   "source": [
    "y=df['Corona']\n",
    "y"
   ]
  },
  {
   "cell_type": "code",
   "execution_count": 25,
   "id": "b7010d89",
   "metadata": {
    "execution": {
     "iopub.execute_input": "2024-08-09T09:28:23.258610Z",
     "iopub.status.busy": "2024-08-09T09:28:23.257254Z",
     "iopub.status.idle": "2024-08-09T09:28:23.262644Z",
     "shell.execute_reply": "2024-08-09T09:28:23.261562Z"
    },
    "papermill": {
     "duration": 0.028115,
     "end_time": "2024-08-09T09:28:23.265179",
     "exception": false,
     "start_time": "2024-08-09T09:28:23.237064",
     "status": "completed"
    },
    "tags": []
   },
   "outputs": [],
   "source": [
    "#smote= SMOTE(random_state=44)\n",
    "#x_balanced,y_balanced=smote.fit_resample(x,y)"
   ]
  },
  {
   "cell_type": "code",
   "execution_count": 26,
   "id": "7cc3c44b",
   "metadata": {
    "execution": {
     "iopub.execute_input": "2024-08-09T09:28:23.305450Z",
     "iopub.status.busy": "2024-08-09T09:28:23.305024Z",
     "iopub.status.idle": "2024-08-09T09:28:23.309614Z",
     "shell.execute_reply": "2024-08-09T09:28:23.308497Z"
    },
    "papermill": {
     "duration": 0.027634,
     "end_time": "2024-08-09T09:28:23.312062",
     "exception": false,
     "start_time": "2024-08-09T09:28:23.284428",
     "status": "completed"
    },
    "tags": []
   },
   "outputs": [],
   "source": [
    "#balanced=y_balanced.value_counts()\n",
    "#balanced"
   ]
  },
  {
   "cell_type": "code",
   "execution_count": 27,
   "id": "2f17359d",
   "metadata": {
    "execution": {
     "iopub.execute_input": "2024-08-09T09:28:23.352764Z",
     "iopub.status.busy": "2024-08-09T09:28:23.351639Z",
     "iopub.status.idle": "2024-08-09T09:28:23.397302Z",
     "shell.execute_reply": "2024-08-09T09:28:23.396074Z"
    },
    "papermill": {
     "duration": 0.068714,
     "end_time": "2024-08-09T09:28:23.399982",
     "exception": false,
     "start_time": "2024-08-09T09:28:23.331268",
     "status": "completed"
    },
    "tags": []
   },
   "outputs": [
    {
     "name": "stdout",
     "output_type": "stream",
     "text": [
      "x_train shape is  (178967, 6)\n",
      "x_test shape is  (76701, 6)\n",
      "y_train shape is  (178967,)\n",
      "y_test shape is  (76701,)\n"
     ]
    }
   ],
   "source": [
    "from sklearn.model_selection import train_test_split\n",
    "x_train, x_test, y_train, y_test = train_test_split(x, y, test_size=0.3, random_state=44,shuffle=True)\n",
    "print('x_train shape is ' , x_train.shape)\n",
    "print('x_test shape is ' , x_test.shape)\n",
    "print('y_train shape is ' , y_train.shape)\n",
    "print('y_test shape is ' , y_test.shape)"
   ]
  },
  {
   "cell_type": "code",
   "execution_count": 28,
   "id": "dae550f6",
   "metadata": {
    "execution": {
     "iopub.execute_input": "2024-08-09T09:28:23.439971Z",
     "iopub.status.busy": "2024-08-09T09:28:23.439586Z",
     "iopub.status.idle": "2024-08-09T09:28:23.459779Z",
     "shell.execute_reply": "2024-08-09T09:28:23.458621Z"
    },
    "papermill": {
     "duration": 0.042861,
     "end_time": "2024-08-09T09:28:23.462053",
     "exception": false,
     "start_time": "2024-08-09T09:28:23.419192",
     "status": "completed"
    },
    "tags": []
   },
   "outputs": [],
   "source": [
    "KerasModel = keras.models.Sequential([\n",
    "        keras.layers.Dense(64,  activation ='tanh' ),\n",
    "        keras.layers.Dense(128, activation = 'tanh'),\n",
    "        #keras.layers.Dropout(0.2),\n",
    "        keras.layers.Dense(512, activation = 'tanh'),\n",
    "      #  keras.layers.Dropout(0.2),\n",
    "        keras.layers.Dense(64, activation = 'tanh'),\n",
    "      #  keras.layers.Dropout(0.2),\n",
    "        keras.layers.Dense(32, activation = 'tanh'),\n",
    "        keras.layers.Dense(8, activation = 'tanh'),\n",
    "                keras.layers.Dense(1, activation = 'sigmoid'),\n",
    "        ])"
   ]
  },
  {
   "cell_type": "code",
   "execution_count": 29,
   "id": "f78fffcf",
   "metadata": {
    "execution": {
     "iopub.execute_input": "2024-08-09T09:28:23.504167Z",
     "iopub.status.busy": "2024-08-09T09:28:23.503115Z",
     "iopub.status.idle": "2024-08-09T09:28:23.546853Z",
     "shell.execute_reply": "2024-08-09T09:28:23.545853Z"
    },
    "papermill": {
     "duration": 0.068366,
     "end_time": "2024-08-09T09:28:23.549504",
     "exception": false,
     "start_time": "2024-08-09T09:28:23.481138",
     "status": "completed"
    },
    "tags": []
   },
   "outputs": [],
   "source": [
    "KerasModel.compile(optimizer ='adam',loss='binary_crossentropy',metrics=['accuracy'])"
   ]
  },
  {
   "cell_type": "code",
   "execution_count": 30,
   "id": "fb75538b",
   "metadata": {
    "execution": {
     "iopub.execute_input": "2024-08-09T09:28:23.589709Z",
     "iopub.status.busy": "2024-08-09T09:28:23.589250Z",
     "iopub.status.idle": "2024-08-09T09:28:54.455998Z",
     "shell.execute_reply": "2024-08-09T09:28:54.455008Z"
    },
    "papermill": {
     "duration": 30.889964,
     "end_time": "2024-08-09T09:28:54.458827",
     "exception": false,
     "start_time": "2024-08-09T09:28:23.568863",
     "status": "completed"
    },
    "tags": []
   },
   "outputs": [
    {
     "name": "stdout",
     "output_type": "stream",
     "text": [
      "Epoch 1/100\n",
      "\u001b[1m18/18\u001b[0m \u001b[32m━━━━━━━━━━━━━━━━━━━━\u001b[0m\u001b[37m\u001b[0m \u001b[1m5s\u001b[0m 119ms/step - accuracy: 0.9465 - loss: 0.4303 - val_accuracy: 0.9473 - val_loss: 0.2252\n",
      "Epoch 2/100\n",
      "\u001b[1m18/18\u001b[0m \u001b[32m━━━━━━━━━━━━━━━━━━━━\u001b[0m\u001b[37m\u001b[0m \u001b[1m2s\u001b[0m 100ms/step - accuracy: 0.9474 - loss: 0.2220 - val_accuracy: 0.9517 - val_loss: 0.2055\n",
      "Epoch 3/100\n",
      "\u001b[1m18/18\u001b[0m \u001b[32m━━━━━━━━━━━━━━━━━━━━\u001b[0m\u001b[37m\u001b[0m \u001b[1m2s\u001b[0m 101ms/step - accuracy: 0.9540 - loss: 0.1989 - val_accuracy: 0.9580 - val_loss: 0.1858\n",
      "Epoch 4/100\n",
      "\u001b[1m18/18\u001b[0m \u001b[32m━━━━━━━━━━━━━━━━━━━━\u001b[0m\u001b[37m\u001b[0m \u001b[1m2s\u001b[0m 102ms/step - accuracy: 0.9581 - loss: 0.1845 - val_accuracy: 0.9591 - val_loss: 0.1788\n",
      "Epoch 5/100\n",
      "\u001b[1m18/18\u001b[0m \u001b[32m━━━━━━━━━━━━━━━━━━━━\u001b[0m\u001b[37m\u001b[0m \u001b[1m2s\u001b[0m 100ms/step - accuracy: 0.9584 - loss: 0.1796 - val_accuracy: 0.9591 - val_loss: 0.1746\n",
      "Epoch 6/100\n",
      "\u001b[1m18/18\u001b[0m \u001b[32m━━━━━━━━━━━━━━━━━━━━\u001b[0m\u001b[37m\u001b[0m \u001b[1m2s\u001b[0m 102ms/step - accuracy: 0.9596 - loss: 0.1720 - val_accuracy: 0.9591 - val_loss: 0.1691\n",
      "Epoch 7/100\n",
      "\u001b[1m18/18\u001b[0m \u001b[32m━━━━━━━━━━━━━━━━━━━━\u001b[0m\u001b[37m\u001b[0m \u001b[1m2s\u001b[0m 102ms/step - accuracy: 0.9595 - loss: 0.1672 - val_accuracy: 0.9591 - val_loss: 0.1644\n",
      "Epoch 8/100\n",
      "\u001b[1m18/18\u001b[0m \u001b[32m━━━━━━━━━━━━━━━━━━━━\u001b[0m\u001b[37m\u001b[0m \u001b[1m3s\u001b[0m 102ms/step - accuracy: 0.9594 - loss: 0.1633 - val_accuracy: 0.9591 - val_loss: 0.1615\n",
      "Epoch 9/100\n",
      "\u001b[1m18/18\u001b[0m \u001b[32m━━━━━━━━━━━━━━━━━━━━\u001b[0m\u001b[37m\u001b[0m \u001b[1m3s\u001b[0m 101ms/step - accuracy: 0.9588 - loss: 0.1622 - val_accuracy: 0.9591 - val_loss: 0.1596\n",
      "Epoch 10/100\n",
      "\u001b[1m18/18\u001b[0m \u001b[32m━━━━━━━━━━━━━━━━━━━━\u001b[0m\u001b[37m\u001b[0m \u001b[1m2s\u001b[0m 127ms/step - accuracy: 0.9595 - loss: 0.1588 - val_accuracy: 0.9591 - val_loss: 0.1584\n",
      "Epoch 11/100\n",
      "\u001b[1m18/18\u001b[0m \u001b[32m━━━━━━━━━━━━━━━━━━━━\u001b[0m\u001b[37m\u001b[0m \u001b[1m2s\u001b[0m 97ms/step - accuracy: 0.9588 - loss: 0.1598 - val_accuracy: 0.9591 - val_loss: 0.1577\n",
      "Epoch 12/100\n",
      "\u001b[1m18/18\u001b[0m \u001b[32m━━━━━━━━━━━━━━━━━━━━\u001b[0m\u001b[37m\u001b[0m \u001b[1m2s\u001b[0m 100ms/step - accuracy: 0.9593 - loss: 0.1577 - val_accuracy: 0.9591 - val_loss: 0.1567\n",
      "Epoch 13/100\n",
      "\u001b[1m18/18\u001b[0m \u001b[32m━━━━━━━━━━━━━━━━━━━━\u001b[0m\u001b[37m\u001b[0m \u001b[1m2s\u001b[0m 103ms/step - accuracy: 0.9593 - loss: 0.1570 - val_accuracy: 0.9591 - val_loss: 0.1562\n",
      "Epoch 14/100\n",
      "\u001b[1m18/18\u001b[0m \u001b[32m━━━━━━━━━━━━━━━━━━━━\u001b[0m\u001b[37m\u001b[0m \u001b[1m2s\u001b[0m 104ms/step - accuracy: 0.9587 - loss: 0.1574 - val_accuracy: 0.9591 - val_loss: 0.1559\n"
     ]
    }
   ],
   "source": [
    "history = KerasModel.fit(x_train,y_train,\n",
    "                         validation_data=(x_test,y_test),\n",
    "                         epochs=100,\n",
    "                         batch_size=10000,\n",
    "                         verbose=1,\n",
    "                         callbacks=[tf.keras.callbacks.EarlyStopping(\n",
    "                                            patience=10,\n",
    "                                            monitor='val_accuracy',#\"val_loss\",\n",
    "                                            restore_best_weights=True)])"
   ]
  },
  {
   "cell_type": "code",
   "execution_count": 31,
   "id": "3989fc06",
   "metadata": {
    "execution": {
     "iopub.execute_input": "2024-08-09T09:28:54.552472Z",
     "iopub.status.busy": "2024-08-09T09:28:54.552051Z",
     "iopub.status.idle": "2024-08-09T09:28:59.493671Z",
     "shell.execute_reply": "2024-08-09T09:28:59.492080Z"
    },
    "papermill": {
     "duration": 4.991335,
     "end_time": "2024-08-09T09:28:59.496352",
     "exception": false,
     "start_time": "2024-08-09T09:28:54.505017",
     "status": "completed"
    },
    "tags": []
   },
   "outputs": [
    {
     "name": "stdout",
     "output_type": "stream",
     "text": [
      "\u001b[1m2397/2397\u001b[0m \u001b[32m━━━━━━━━━━━━━━━━━━━━\u001b[0m\u001b[37m\u001b[0m \u001b[1m4s\u001b[0m 2ms/step\n",
      "Prediction Shape is (76701, 1)\n"
     ]
    }
   ],
   "source": [
    "y_pred =KerasModel.predict(x_test)\n",
    "\n",
    "print('Prediction Shape is {}'.format(y_pred.shape))"
   ]
  },
  {
   "cell_type": "code",
   "execution_count": 32,
   "id": "1e4264f1",
   "metadata": {
    "execution": {
     "iopub.execute_input": "2024-08-09T09:28:59.605998Z",
     "iopub.status.busy": "2024-08-09T09:28:59.605580Z",
     "iopub.status.idle": "2024-08-09T09:29:03.569753Z",
     "shell.execute_reply": "2024-08-09T09:29:03.568465Z"
    },
    "papermill": {
     "duration": 4.021878,
     "end_time": "2024-08-09T09:29:03.572331",
     "exception": false,
     "start_time": "2024-08-09T09:28:59.550453",
     "status": "completed"
    },
    "tags": []
   },
   "outputs": [
    {
     "name": "stdout",
     "output_type": "stream",
     "text": [
      "\u001b[1m2397/2397\u001b[0m \u001b[32m━━━━━━━━━━━━━━━━━━━━\u001b[0m\u001b[37m\u001b[0m \u001b[1m4s\u001b[0m 2ms/step - accuracy: 0.9590 - loss: 0.1790\n",
      "Model Loss is 0.17882664501667023\n",
      "Model Accuracy is 0.9591270089149475\n"
     ]
    }
   ],
   "source": [
    "ModelLoss, ModelAccuracy = KerasModel.evaluate(x_test, y_test)\n",
    "print('Model Loss is {}'.format(ModelLoss))\n",
    "print('Model Accuracy is {}'.format(ModelAccuracy ))"
   ]
  },
  {
   "cell_type": "code",
   "execution_count": 33,
   "id": "54288cbe",
   "metadata": {
    "execution": {
     "iopub.execute_input": "2024-08-09T09:29:03.696727Z",
     "iopub.status.busy": "2024-08-09T09:29:03.696270Z",
     "iopub.status.idle": "2024-08-09T09:29:03.704412Z",
     "shell.execute_reply": "2024-08-09T09:29:03.703286Z"
    },
    "papermill": {
     "duration": 0.074572,
     "end_time": "2024-08-09T09:29:03.706966",
     "exception": false,
     "start_time": "2024-08-09T09:29:03.632394",
     "status": "completed"
    },
    "tags": []
   },
   "outputs": [
    {
     "data": {
      "text/plain": [
       "[0.9469902515411377,\n",
       " 0.9489514827728271,\n",
       " 0.9548072814941406,\n",
       " 0.9587801098823547,\n",
       " 0.9591600894927979,\n",
       " 0.9591600894927979,\n",
       " 0.9591600894927979,\n",
       " 0.9591600894927979,\n",
       " 0.9591600894927979,\n",
       " 0.9591600894927979,\n",
       " 0.9591600894927979,\n",
       " 0.9591600894927979,\n",
       " 0.9591600894927979,\n",
       " 0.9591600894927979]"
      ]
     },
     "execution_count": 33,
     "metadata": {},
     "output_type": "execute_result"
    }
   ],
   "source": [
    "history.history['accuracy']"
   ]
  },
  {
   "cell_type": "code",
   "execution_count": 34,
   "id": "88fbd951",
   "metadata": {
    "execution": {
     "iopub.execute_input": "2024-08-09T09:29:03.830864Z",
     "iopub.status.busy": "2024-08-09T09:29:03.829454Z",
     "iopub.status.idle": "2024-08-09T09:29:04.145726Z",
     "shell.execute_reply": "2024-08-09T09:29:04.144599Z"
    },
    "papermill": {
     "duration": 0.380744,
     "end_time": "2024-08-09T09:29:04.148492",
     "exception": false,
     "start_time": "2024-08-09T09:29:03.767748",
     "status": "completed"
    },
    "tags": []
   },
   "outputs": [
    {
     "data": {
      "image/png": "[encoded data removed]",
      "text/plain": [
       "<Figure size 640x480 with 1 Axes>"
      ]
     },
     "metadata": {},
     "output_type": "display_data"
    }
   ],
   "source": [
    "plt.plot(history.history['accuracy'])\n",
    "plt.plot(history.history['val_accuracy'])\n",
    "plt.title('model accuracy')\n",
    "plt.ylabel('accuracy')\n",
    "plt.xlabel('epoch')\n",
    "plt.legend(['train', 'validation'], loc='upper left')\n",
    "plt.show()"
   ]
  },
  {
   "cell_type": "code",
   "execution_count": 35,
   "id": "31709d85",
   "metadata": {
    "execution": {
     "iopub.execute_input": "2024-08-09T09:29:04.271354Z",
     "iopub.status.busy": "2024-08-09T09:29:04.270934Z",
     "iopub.status.idle": "2024-08-09T09:29:04.278450Z",
     "shell.execute_reply": "2024-08-09T09:29:04.277265Z"
    },
    "papermill": {
     "duration": 0.071933,
     "end_time": "2024-08-09T09:29:04.280933",
     "exception": false,
     "start_time": "2024-08-09T09:29:04.209000",
     "status": "completed"
    },
    "tags": []
   },
   "outputs": [
    {
     "data": {
      "text/plain": [
       "[0.32940933108329773,\n",
       " 0.21640655398368835,\n",
       " 0.19595760107040405,\n",
       " 0.18196111917495728,\n",
       " 0.17677871882915497,\n",
       " 0.1716822385787964,\n",
       " 0.16711893677711487,\n",
       " 0.16321271657943726,\n",
       " 0.16093800961971283,\n",
       " 0.15944965183734894,\n",
       " 0.15850304067134857,\n",
       " 0.15780678391456604,\n",
       " 0.15711423754692078,\n",
       " 0.1565527766942978]"
      ]
     },
     "execution_count": 35,
     "metadata": {},
     "output_type": "execute_result"
    }
   ],
   "source": [
    "history.history['loss']"
   ]
  },
  {
   "cell_type": "code",
   "execution_count": 36,
   "id": "b26182f7",
   "metadata": {
    "execution": {
     "iopub.execute_input": "2024-08-09T09:29:04.404530Z",
     "iopub.status.busy": "2024-08-09T09:29:04.404125Z",
     "iopub.status.idle": "2024-08-09T09:29:04.748216Z",
     "shell.execute_reply": "2024-08-09T09:29:04.746943Z"
    },
    "papermill": {
     "duration": 0.409414,
     "end_time": "2024-08-09T09:29:04.750894",
     "exception": false,
     "start_time": "2024-08-09T09:29:04.341480",
     "status": "completed"
    },
    "tags": []
   },
   "outputs": [
    {
     "data": {
      "image/png": "[encoded data removed]",
      "text/plain": [
       "<Figure size 640x480 with 1 Axes>"
      ]
     },
     "metadata": {},
     "output_type": "display_data"
    }
   ],
   "source": [
    "plt.plot(history.history['loss'])\n",
    "plt.plot(history.history['val_loss'])\n",
    "plt.title('model loss')\n",
    "plt.ylabel('loss')\n",
    "plt.xlabel('epoch')\n",
    "plt.legend(['train', 'validation'], loc='upper left')\n",
    "plt.show()"
   ]
  },
  {
   "cell_type": "code",
   "execution_count": 37,
   "id": "201e1753",
   "metadata": {
    "execution": {
     "iopub.execute_input": "2024-08-09T09:29:04.879462Z",
     "iopub.status.busy": "2024-08-09T09:29:04.879018Z",
     "iopub.status.idle": "2024-08-09T09:29:04.886864Z",
     "shell.execute_reply": "2024-08-09T09:29:04.885726Z"
    },
    "papermill": {
     "duration": 0.074701,
     "end_time": "2024-08-09T09:29:04.889202",
     "exception": false,
     "start_time": "2024-08-09T09:29:04.814501",
     "status": "completed"
    },
    "tags": []
   },
   "outputs": [
    {
     "data": {
      "text/plain": [
       "(76701, 76701)"
      ]
     },
     "execution_count": 37,
     "metadata": {},
     "output_type": "execute_result"
    }
   ],
   "source": [
    "len(y_test), len(y_pred)"
   ]
  },
  {
   "cell_type": "code",
   "execution_count": 38,
   "id": "c4f0855c",
   "metadata": {
    "execution": {
     "iopub.execute_input": "2024-08-09T09:29:05.017349Z",
     "iopub.status.busy": "2024-08-09T09:29:05.016077Z",
     "iopub.status.idle": "2024-08-09T09:29:05.024039Z",
     "shell.execute_reply": "2024-08-09T09:29:05.022875Z"
    },
    "papermill": {
     "duration": 0.074843,
     "end_time": "2024-08-09T09:29:05.026441",
     "exception": false,
     "start_time": "2024-08-09T09:29:04.951598",
     "status": "completed"
    },
    "tags": []
   },
   "outputs": [
    {
     "data": {
      "text/plain": [
       "array([[0.07238178],\n",
       "       [0.07238178],\n",
       "       [0.07192875],\n",
       "       ...,\n",
       "       [0.07238178],\n",
       "       [0.07238178],\n",
       "       [0.07238178]], dtype=float32)"
      ]
     },
     "execution_count": 38,
     "metadata": {},
     "output_type": "execute_result"
    }
   ],
   "source": [
    "y_pred"
   ]
  },
  {
   "cell_type": "code",
   "execution_count": 39,
   "id": "b52e7865",
   "metadata": {
    "execution": {
     "iopub.execute_input": "2024-08-09T09:29:05.153458Z",
     "iopub.status.busy": "2024-08-09T09:29:05.153066Z",
     "iopub.status.idle": "2024-08-09T09:29:05.161685Z",
     "shell.execute_reply": "2024-08-09T09:29:05.160619Z"
    },
    "papermill": {
     "duration": 0.074444,
     "end_time": "2024-08-09T09:29:05.164064",
     "exception": false,
     "start_time": "2024-08-09T09:29:05.089620",
     "status": "completed"
    },
    "tags": []
   },
   "outputs": [
    {
     "data": {
      "text/plain": [
       "139336    0\n",
       "22952     0\n",
       "152645    0\n",
       "193640    0\n",
       "33516     0\n",
       "         ..\n",
       "220170    0\n",
       "246996    0\n",
       "99719     0\n",
       "192997    0\n",
       "97606     0\n",
       "Name: Corona, Length: 76701, dtype: int64"
      ]
     },
     "execution_count": 39,
     "metadata": {},
     "output_type": "execute_result"
    }
   ],
   "source": [
    "y_test"
   ]
  },
  {
   "cell_type": "code",
   "execution_count": 40,
   "id": "4631f4fc",
   "metadata": {
    "execution": {
     "iopub.execute_input": "2024-08-09T09:29:05.290298Z",
     "iopub.status.busy": "2024-08-09T09:29:05.289910Z",
     "iopub.status.idle": "2024-08-09T09:29:05.729812Z",
     "shell.execute_reply": "2024-08-09T09:29:05.728716Z"
    },
    "papermill": {
     "duration": 0.506473,
     "end_time": "2024-08-09T09:29:05.732800",
     "exception": false,
     "start_time": "2024-08-09T09:29:05.226327",
     "status": "completed"
    },
    "tags": []
   },
   "outputs": [],
   "source": [
    "y_pred = [np.round(i[0]) for i in y_pred]\n"
   ]
  },
  {
   "cell_type": "code",
   "execution_count": 41,
   "id": "d0ab67b7",
   "metadata": {
    "execution": {
     "iopub.execute_input": "2024-08-09T09:29:05.858669Z",
     "iopub.status.busy": "2024-08-09T09:29:05.858240Z",
     "iopub.status.idle": "2024-08-09T09:29:05.900379Z",
     "shell.execute_reply": "2024-08-09T09:29:05.899203Z"
    },
    "papermill": {
     "duration": 0.108111,
     "end_time": "2024-08-09T09:29:05.902967",
     "exception": false,
     "start_time": "2024-08-09T09:29:05.794856",
     "status": "completed"
    },
    "tags": []
   },
   "outputs": [
    {
     "name": "stdout",
     "output_type": "stream",
     "text": [
      "Confusion Matrix is : \n",
      " [[72576    80]\n",
      " [ 3055   990]]\n"
     ]
    }
   ],
   "source": [
    "from sklearn.metrics import confusion_matrix\n",
    "CM = confusion_matrix(y_test, y_pred)\n",
    "print('Confusion Matrix is : \\n', CM)"
   ]
  },
  {
   "cell_type": "code",
   "execution_count": 42,
   "id": "5bd9aba6",
   "metadata": {
    "execution": {
     "iopub.execute_input": "2024-08-09T09:29:06.030040Z",
     "iopub.status.busy": "2024-08-09T09:29:06.029623Z",
     "iopub.status.idle": "2024-08-09T09:29:06.307804Z",
     "shell.execute_reply": "2024-08-09T09:29:06.306768Z"
    },
    "papermill": {
     "duration": 0.345206,
     "end_time": "2024-08-09T09:29:06.310297",
     "exception": false,
     "start_time": "2024-08-09T09:29:05.965091",
     "status": "completed"
    },
    "tags": []
   },
   "outputs": [
    {
     "data": {
      "image/png": "[encoded data removed]",
      "text/plain": [
       "<Figure size 640x480 with 2 Axes>"
      ]
     },
     "metadata": {},
     "output_type": "display_data"
    }
   ],
   "source": [
    "sns.heatmap(CM, center = True,cmap='Blues_r')\n",
    "plt.show()"
   ]
  },
  {
   "cell_type": "code",
   "execution_count": 43,
   "id": "436fdd6d",
   "metadata": {
    "execution": {
     "iopub.execute_input": "2024-08-09T09:29:06.438279Z",
     "iopub.status.busy": "2024-08-09T09:29:06.437261Z",
     "iopub.status.idle": "2024-08-09T09:29:06.621264Z",
     "shell.execute_reply": "2024-08-09T09:29:06.619941Z"
    },
    "papermill": {
     "duration": 0.250778,
     "end_time": "2024-08-09T09:29:06.624089",
     "exception": false,
     "start_time": "2024-08-09T09:29:06.373311",
     "status": "completed"
    },
    "tags": []
   },
   "outputs": [
    {
     "name": "stdout",
     "output_type": "stream",
     "text": [
      "Classification Report is : \n",
      "               precision    recall  f1-score   support\n",
      "\n",
      "           0       0.96      1.00      0.98     72656\n",
      "           1       0.93      0.24      0.39      4045\n",
      "\n",
      "    accuracy                           0.96     76701\n",
      "   macro avg       0.94      0.62      0.68     76701\n",
      "weighted avg       0.96      0.96      0.95     76701\n",
      "\n"
     ]
    }
   ],
   "source": [
    "from sklearn.metrics import classification_report\n",
    "ClassificationReport = classification_report(y_test,y_pred)\n",
    "print('Classification Report is : \\n', ClassificationReport )"
   ]
  },
  {
   "cell_type": "code",
   "execution_count": null,
   "id": "d0af2a0e",
   "metadata": {
    "papermill": {
     "duration": 0.06466,
     "end_time": "2024-08-09T09:29:06.751736",
     "exception": false,
     "start_time": "2024-08-09T09:29:06.687076",
     "status": "completed"
    },
    "tags": []
   },
   "outputs": [],
   "source": []
  }
 ],
 "metadata": {
  "kaggle": {
   "accelerator": "none",
   "dataSources": [
    {
     "datasetId": 5465317,
     "sourceId": 9062638,
     "sourceType": "datasetVersion"
    }
   ],
   "dockerImageVersionId": 30746,
   "isGpuEnabled": false,
   "isInternetEnabled": true,
   "language": "python",
   "sourceType": "notebook"
  },
  "kernelspec": {
   "display_name": "Python 3",
   "language": "python",
   "name": "python3"
  },
  "language_info": {
   "codemirror_mode": {
    "name": "ipython",
    "version": 3
   },
   "file_extension": ".py",
   "mimetype": "text/x-python",
   "name": "python",
   "nbconvert_exporter": "python",
   "pygments_lexer": "ipython3",
   "version": "3.10.13"
  },
  "papermill": {
   "default_parameters": {},
   "duration": 76.231027,
   "end_time": "2024-08-09T09:29:09.721331",
   "environment_variables": {},
   "exception": null,
   "input_path": "__notebook__.ipynb",
   "output_path": "__notebook__.ipynb",
   "parameters": {},
   "start_time": "2024-08-09T09:27:53.490304",
   "version": "2.5.0"
  }
 },
 "nbformat": 4,
 "nbformat_minor": 5
}
